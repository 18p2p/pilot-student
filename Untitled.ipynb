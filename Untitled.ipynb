{
 "cells": [
  {
   "cell_type": "code",
   "execution_count": null,
   "metadata": {},
   "outputs": [],
   "source": [
    "print(\"what's your name?\")\n",
    "name=input()\n",
    "print(f\"hello, {name}!\")"
   ]
  },
  {
   "cell_type": "code",
   "execution_count": null,
   "metadata": {},
   "outputs": [],
   "source": [
    "print(\"how are you today?\")\n",
    "feeling=input()\n",
    "if 'good' in feeling.lower():\n",
    "    print(\"i feeling good too!\")\n",
    "else:\n",
    "    print(\"sorry, heae to that.\")"
   ]
  },
  {
   "cell_type": "code",
   "execution_count": 40,
   "metadata": {},
   "outputs": [
    {
     "name": "stdout",
     "output_type": "stream",
     "text": [
      "what's your favorite color?\n"
     ]
    },
    {
     "name": "stdin",
     "output_type": "stream",
     "text": [
      " red\n"
     ]
    },
    {
     "name": "stdout",
     "output_type": "stream",
     "text": [
      "your favorite color is red? that's a great color! my favorite color is red!\n"
     ]
    }
   ],
   "source": [
    "import random\n",
    "print(\"what's your favorite color?\")\n",
    "favcolor=input()\n",
    "colors=[\"red\", \"orange\", \"green\", \"yellow\", \"blue\", \"indige\", \"purple\"]\n",
    "print(f\"your favorite color is {favcolor}? that's a great color! my favorite color is {random.choice(colors)}!\")"
   ]
  },
  {
   "cell_type": "code",
   "execution_count": null,
   "metadata": {},
   "outputs": [],
   "source": [
    "class greetingbot(bot):\n",
    "    def __init__(self):\n",
    "        self.q=\"how are you today?\"\n",
    "    \n",
    "    def think(self,s):\n",
    "        if 'good' in s.lower():\n",
    "            return \"i feeling good too!\"\n",
    "        else:\n",
    "            return \"sorry, heae to that.\"\n",
    "        \n",
    "        \n",
    "    \n",
    "    \n",
    "  \n",
    "            \n",
    "g=greetingbot()\n",
    "g.run()"
   ]
  },
  {
   "cell_type": "code",
   "execution_count": null,
   "metadata": {},
   "outputs": [],
   "source": [
    "class bot:\n",
    "    def __init__(self):\n",
    "        self.q=\"\"\n",
    "    \n",
    "    def think(self,s):\n",
    "        return \"s\"\n",
    "    \n",
    "    def run(self):\n",
    "        print(self.q)\n",
    "        self.a=input()\n",
    "        print(self.think(self.a))\n",
    "        "
   ]
  },
  {
   "cell_type": "code",
   "execution_count": 32,
   "metadata": {},
   "outputs": [
    {
     "name": "stdout",
     "output_type": "stream",
     "text": [
      "what's your name?\n"
     ]
    },
    {
     "name": "stdin",
     "output_type": "stream",
     "text": [
      " wjj\n"
     ]
    },
    {
     "name": "stdout",
     "output_type": "stream",
     "text": [
      "hello, wjj!\n"
     ]
    }
   ],
   "source": [
    "class hellobot(bot):\n",
    "     def __init__(self):\n",
    "        self.q='what\\'s your name?' \n",
    "     def think(self,s):\n",
    "        return f'hello, {s}!'\n",
    " \n",
    "    \n",
    "   \n",
    "h=hellobot()\n",
    "h.run()\n",
    "        "
   ]
  },
  {
   "cell_type": "code",
   "execution_count": null,
   "metadata": {},
   "outputs": [],
   "source": [
    "class greetingbot(bot):\n",
    "    def __init__(self):\n",
    "        self.q=\"how are you today?\"\n",
    "    \n",
    "    def think(self,s):\n",
    "        if 'good' in s.lower():\n",
    "            return \"i feeling good too!\"\n",
    "        else:\n",
    "            return \"sorry, heae to that.\"\n",
    "        \n",
    "        \n",
    "    \n",
    "    \n",
    "  \n",
    "            \n",
    "g=greetingbot()\n",
    "g.run()"
   ]
  },
  {
   "cell_type": "code",
   "execution_count": null,
   "metadata": {},
   "outputs": [],
   "source": [
    "\n"
   ]
  }
 ],
 "metadata": {
  "kernelspec": {
   "display_name": "Python 3",
   "language": "python",
   "name": "python3"
  },
  "language_info": {
   "codemirror_mode": {
    "name": "ipython",
    "version": 3
   },
   "file_extension": ".py",
   "mimetype": "text/x-python",
   "name": "python",
   "nbconvert_exporter": "python",
   "pygments_lexer": "ipython3",
   "version": "3.7.5"
  }
 },
 "nbformat": 4,
 "nbformat_minor": 4
}
