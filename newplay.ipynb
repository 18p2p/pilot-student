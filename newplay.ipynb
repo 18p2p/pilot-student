{
 "cells": [
  {
   "cell_type": "code",
   "execution_count": 1,
   "metadata": {},
   "outputs": [
    {
     "name": "stdout",
     "output_type": "stream",
     "text": [
      "what's your name?\n"
     ]
    },
    {
     "name": "stdin",
     "output_type": "stream",
     "text": [
      " neo\n"
     ]
    },
    {
     "name": "stdout",
     "output_type": "stream",
     "text": [
      "hello, neo!\n"
     ]
    }
   ],
   "source": [
    "print('what\\'s your name?')\n",
    "name=input()\n",
    "print(f'hello, {name}!')\n",
    "\n",
    "    "
   ]
  },
  {
   "cell_type": "code",
   "execution_count": null,
   "metadata": {},
   "outputs": [],
   "source": []
  },
  {
   "cell_type": "code",
   "execution_count": 3,
   "metadata": {},
   "outputs": [
    {
     "name": "stdout",
     "output_type": "stream",
     "text": [
      "how are you today?\n"
     ]
    },
    {
     "name": "stdin",
     "output_type": "stream",
     "text": [
      " good\n"
     ]
    },
    {
     "name": "stdout",
     "output_type": "stream",
     "text": [
      "i'm feeling good too!\n"
     ]
    }
   ],
   "source": [
    "print('how are you today?')\n",
    "feeling=input()\n",
    "if 'good' in feeling:\n",
    "    print('i\\'m feeling good too!')\n",
    "else:\n",
    "    print('sorry to hear that!')"
   ]
  },
  {
   "cell_type": "code",
   "execution_count": 7,
   "metadata": {},
   "outputs": [
    {
     "name": "stdout",
     "output_type": "stream",
     "text": [
      "what's your favorite color?\n"
     ]
    },
    {
     "name": "stdin",
     "output_type": "stream",
     "text": [
      " blue\n"
     ]
    },
    {
     "name": "stdout",
     "output_type": "stream",
     "text": [
      "your favorite color is blue? that's a great color! my favorite color is orange!\n"
     ]
    }
   ],
   "source": [
    "import random\n",
    "print(\"what's your favorite color?\")\n",
    "favcolor=input()\n",
    "colors=[\"red\", \"orange\", \"yellow\", \"green\", \"indige\", \"blue\", \"purple\"]\n",
    "print(f\"your favorite color is {favcolor}? that's a great color! my favorite color is {random.choice(colors)}!\")\n"
   ]
  },
  {
   "cell_type": "code",
   "execution_count": 15,
   "metadata": {},
   "outputs": [],
   "source": [
    "class Bot:\n",
    "    \n",
    "    def __init__(self):\n",
    "        self.q=''\n",
    "    def _think(self,s):\n",
    "        return s\n",
    "    def run(self):\n",
    "        print(self.q)\n",
    "        self.a=input()\n",
    "        print(self._think(self.a))\n",
    "        "
   ]
  },
  {
   "cell_type": "code",
   "execution_count": 20,
   "metadata": {},
   "outputs": [
    {
     "name": "stdout",
     "output_type": "stream",
     "text": [
      "what's your name?\n"
     ]
    },
    {
     "name": "stdin",
     "output_type": "stream",
     "text": [
      " ksj\n"
     ]
    },
    {
     "name": "stdout",
     "output_type": "stream",
     "text": [
      "hello, ksj\n"
     ]
    }
   ],
   "source": [
    "class HelloBot(Bot):\n",
    "    def __init__(self):\n",
    "        self.q='what\\'s your name?'\n",
    "    def _think(self,s):\n",
    "        return f'hello, {s}'\n",
    "    \n",
    "    \n",
    "    \n",
    "    \n",
    "h=HelloBot()\n",
    "h.run()\n",
    "\n",
    "        "
   ]
  },
  {
   "cell_type": "code",
   "execution_count": 27,
   "metadata": {},
   "outputs": [
    {
     "name": "stdout",
     "output_type": "stream",
     "text": [
      "how are you today?\n"
     ]
    },
    {
     "name": "stdin",
     "output_type": "stream",
     "text": [
      " fine\n"
     ]
    },
    {
     "name": "stdout",
     "output_type": "stream",
     "text": [
      "sorry to hear that!\n"
     ]
    }
   ],
   "source": [
    "class GreetingBot(Bot):\n",
    "    def __init__(self):\n",
    "        self.q='how are you today?'\n",
    "    def _think(self,s):\n",
    "        if 'good' in self.a.lower():\n",
    "            return 'i\\'m feeling good too!'\n",
    "        else:\n",
    "            return 'sorry to hear that!'\n",
    "    \n",
    "    \n",
    "    \n",
    "    \n",
    "g=GreetingBot()\n",
    "g.run()\n",
    "        "
   ]
  },
  {
   "cell_type": "code",
   "execution_count": 30,
   "metadata": {},
   "outputs": [
    {
     "name": "stdout",
     "output_type": "stream",
     "text": [
      "what's your favorite color?\n"
     ]
    },
    {
     "name": "stdin",
     "output_type": "stream",
     "text": [
      " indige\n"
     ]
    },
    {
     "name": "stdout",
     "output_type": "stream",
     "text": [
      "your favorite color is indige? that's a great color! my favorite color is red!\n"
     ]
    }
   ],
   "source": [
    "import random\n",
    "class FavcolorBot(Bot):\n",
    "    \n",
    "    def __init__(self):\n",
    "        self.q=\"what's your favorite color?\"\n",
    "    def _think(self,s):\n",
    "        colors=[\"red\", \"orange\", \"yellow\", \"green\", \"indige\", \"blue\", \"purple\"]\n",
    "        return f\"your favorite color is {s}? that's a great color! my favorite color is {random.choice(colors)}!\"\n",
    "        \n",
    "   \n",
    "f=FavcolorBot()    \n",
    "f.run()\n",
    "        "
   ]
  }
 ],
 "metadata": {
  "kernelspec": {
   "display_name": "Python 3",
   "language": "python",
   "name": "python3"
  },
  "language_info": {
   "codemirror_mode": {
    "name": "ipython",
    "version": 3
   },
   "file_extension": ".py",
   "mimetype": "text/x-python",
   "name": "python",
   "nbconvert_exporter": "python",
   "pygments_lexer": "ipython3",
   "version": "3.7.5"
  }
 },
 "nbformat": 4,
 "nbformat_minor": 4
}
