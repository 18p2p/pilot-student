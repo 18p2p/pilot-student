{
 "cells": [
  {
   "cell_type": "code",
   "execution_count": 1,
   "metadata": {},
   "outputs": [
    {
     "name": "stdout",
     "output_type": "stream",
     "text": [
      "hi, what is your name?\n"
     ]
    },
    {
     "name": "stdin",
     "output_type": "stream",
     "text": [
      " jack\n"
     ]
    },
    {
     "name": "stdout",
     "output_type": "stream",
     "text": [
      "hi jack!\n"
     ]
    }
   ],
   "source": [
    "print(\"hi, what is your name?\")\n",
    "name=input()\n",
    "print(f\"hi {name}!\")"
   ]
  },
  {
   "cell_type": "code",
   "execution_count": 4,
   "metadata": {},
   "outputs": [
    {
     "name": "stdout",
     "output_type": "stream",
     "text": [
      "how are you today?\n"
     ]
    },
    {
     "name": "stdin",
     "output_type": "stream",
     "text": [
      " Good\n"
     ]
    },
    {
     "name": "stdout",
     "output_type": "stream",
     "text": [
      "sorry to hear that.\n"
     ]
    }
   ],
   "source": [
    "print(\"how are you today?\")\n",
    "felling=input()\n",
    "if 'good' in felling:\n",
    "    print(\"i'm felling good too!\")\n",
    "else:\n",
    "    print(\"sorry to hear that.\")"
   ]
  },
  {
   "cell_type": "code",
   "execution_count": 7,
   "metadata": {},
   "outputs": [
    {
     "name": "stdout",
     "output_type": "stream",
     "text": [
      "how are you today?\n"
     ]
    },
    {
     "name": "stdin",
     "output_type": "stream",
     "text": [
      " fine\n"
     ]
    },
    {
     "name": "stdout",
     "output_type": "stream",
     "text": [
      "sorry hear to that!\n"
     ]
    }
   ],
   "source": [
    "print(\"how are you today?\")\n",
    "felling=input()\n",
    "if 'good' in felling.lower():\n",
    "    print(\"i'm felling good too!\")\n",
    "else:\n",
    "    print(\"sorry hear to that!\")"
   ]
  },
  {
   "cell_type": "code",
   "execution_count": 14,
   "metadata": {},
   "outputs": [
    {
     "name": "stdout",
     "output_type": "stream",
     "text": [
      "what's your favorite color?\n"
     ]
    },
    {
     "name": "stdin",
     "output_type": "stream",
     "text": [
      " red\n"
     ]
    },
    {
     "name": "stdout",
     "output_type": "stream",
     "text": [
      "you like red? my favorite color is orange!\n"
     ]
    }
   ],
   "source": [
    "import random\n",
    "print(\"what's your favorite color?\")\n",
    "favcolor=input()\n",
    "colors=[\"red\", \"orange\", \"yellow\", \"green\", \"blue\", \"indigo\",\"purple\"]\n",
    "print(f\"you like {favcolor.lower()}? my favorite color is {random.choice(colors)}!\")"
   ]
  },
  {
   "cell_type": "code",
   "execution_count": 34,
   "metadata": {},
   "outputs": [],
   "source": [
    "import time\n",
    "class Bot:\n",
    "    wait=1\n",
    "    def __init__(self):\n",
    "        self.q=\"\"\n",
    "        self.a=\"\"\n",
    "        \n",
    "    def _think(self,s):\n",
    "        return s\n",
    "    def run(self):\n",
    "        time.sleep(Bot.wait)\n",
    "        print(self.q)\n",
    "        self.a=input()\n",
    "        time.sleep(Bot.wait)\n",
    "        print(self._think(self.a))\n",
    "        "
   ]
  },
  {
   "cell_type": "code",
   "execution_count": 35,
   "metadata": {},
   "outputs": [],
   "source": [
    "class HelloBot(Bot):\n",
    "    def __init__(self):\n",
    "        self.q=\"hi,what is your name?\"\n",
    "    def _think(self,s):\n",
    "        return f\"hello {s}!\""
   ]
  },
  {
   "cell_type": "code",
   "execution_count": 36,
   "metadata": {},
   "outputs": [],
   "source": [
    "class GreetingBot(Bot):\n",
    "    def __init__(self):\n",
    "        self.q=\"how are you today?\"\n",
    "        \n",
    "    def _think(self,s):\n",
    "        if \"good\" in s.lower() or \"fine\" in s.lower():\n",
    "            return f\"i am feeling good too!\"\n",
    "        else:\n",
    "            return f\"sorry to hear that!\"\n",
    "        "
   ]
  },
  {
   "cell_type": "code",
   "execution_count": 37,
   "metadata": {},
   "outputs": [],
   "source": [
    "import random\n",
    "class FavoriteColorBot(Bot):\n",
    "    def __init__(self):\n",
    "        self.q=\"what's your favorite color?\"\n",
    "    def _think(self,s):\n",
    "        colors=[\"red\", \"orange\", \"yellow\", \"green\", \"blue\", \"indigo\", \"purple\", \"pink\"]\n",
    "        return f\"your favorite color is {s.lower()}?,my favorite color is {random.choice(colors)}!\""
   ]
  },
  {
   "cell_type": "code",
   "execution_count": 38,
   "metadata": {},
   "outputs": [],
   "source": [
    "class Garfield:\n",
    "    def __init__(self,wait=1):\n",
    "        Bot.wait=wait\n",
    "        self.bots=[]\n",
    "    def add(self,bot):\n",
    "        self.bots.append(bot)\n",
    "    def _prompt(self,s):\n",
    "        print(s)\n",
    "        print()\n",
    "    def run(self):\n",
    "        self._prompt(\"this is Garfield dialog system. let's talk.\")\n",
    "        for bot in self.bots:\n",
    "            bot.run()\n",
    "        "
   ]
  },
  {
   "cell_type": "code",
   "execution_count": null,
   "metadata": {},
   "outputs": [],
   "source": [
    "garfield=Garfield(1)\n",
    "garfield.add(HelloBot())\n",
    "garfield.add(GreetingBot())\n",
    "garfield.add(FavoriteColorBot())\n",
    "garfield.run()"
   ]
  },
  {
   "cell_type": "code",
   "execution_count": null,
   "metadata": {},
   "outputs": [],
   "source": [
    "class hello(bot):\n",
    "    def __int__(self):\n",
    "        self.q=\"what is your name?\"\n",
    "    def think(self,s):\n",
    "        return f\"hello {s}!\"\n",
    "    \n",
    "    \n",
    "    \n",
    "   \n",
    "h=hello()\n",
    "h.run()\n",
    "\n",
    "        "
   ]
  },
  {
   "cell_type": "code",
   "execution_count": null,
   "metadata": {},
   "outputs": [],
   "source": [
    "class bot:\n",
    "    def __init__(self):\n",
    "        self.q=\"\"\n",
    "        self.a=\"\"\n",
    "    \n",
    "    def think(self,s):\n",
    "        return s\n",
    "   \n",
    "    def run(self):\n",
    "        print(self.q)\n",
    "        self.a=input()\n",
    "        print(self.think(self.a))\n",
    "        \n",
    "    \n",
    "    "
   ]
  },
  {
   "cell_type": "code",
   "execution_count": 3,
   "metadata": {},
   "outputs": [
    {
     "name": "stdout",
     "output_type": "stream",
     "text": [
      "how are you today?\n"
     ]
    },
    {
     "name": "stdin",
     "output_type": "stream",
     "text": [
      " GOOD\n"
     ]
    },
    {
     "name": "stdout",
     "output_type": "stream",
     "text": [
      "i'm felling good too!\n"
     ]
    }
   ],
   "source": [
    "class greating:\n",
    "    def run(self):\n",
    "        print(\"how are you today?\")\n",
    "        felling=input()\n",
    "        if 'good' in felling.lower():\n",
    "            print(\"i'm felling good too!\")\n",
    "        else:\n",
    "            print(\"sorry to hear that.\")\n",
    "g=greating()\n",
    "g.run()\n"
   ]
  },
  {
   "cell_type": "code",
   "execution_count": null,
   "metadata": {},
   "outputs": [],
   "source": []
  },
  {
   "cell_type": "code",
   "execution_count": null,
   "metadata": {},
   "outputs": [],
   "source": [
    "class bot:\n",
    "    def __init__(self):\n",
    "        self.q=\"\"\n",
    "        self.a=\"\"\n",
    "    \n",
    "    def think(self,s):\n",
    "        return s\n",
    "   \n",
    "    def run(self):\n",
    "        print(self.q)\n",
    "        self.a=input()\n",
    "        print(self.think(self.a))\n",
    "        \n",
    "    \n",
    "    "
   ]
  },
  {
   "cell_type": "code",
   "execution_count": null,
   "metadata": {},
   "outputs": [],
   "source": []
  }
 ],
 "metadata": {
  "kernelspec": {
   "display_name": "Python 3",
   "language": "python",
   "name": "python3"
  },
  "language_info": {
   "codemirror_mode": {
    "name": "ipython",
    "version": 3
   },
   "file_extension": ".py",
   "mimetype": "text/x-python",
   "name": "python",
   "nbconvert_exporter": "python",
   "pygments_lexer": "ipython3",
   "version": "3.7.5"
  }
 },
 "nbformat": 4,
 "nbformat_minor": 4
}
